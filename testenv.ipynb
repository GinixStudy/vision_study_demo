{
 "cells": [
  {
   "cell_type": "code",
   "execution_count": 1,
   "id": "f1cf1181",
   "metadata": {},
   "outputs": [
    {
     "name": "stdout",
     "output_type": "stream",
     "text": [
      "4.11.0\n",
      "2.2.5\n",
      "\n",
      "`matplotlib.pyplot` is a state-based interface to\n"
     ]
    }
   ],
   "source": [
    "import cv2\n",
    "import numpy as np\n",
    "import matplotlib.pyplot as plt\n",
    "\n",
    "print(cv2.__version__)\n",
    "print(np.__version__)\n",
    "print(plt.__doc__[:50])  # 打印matplotlib的简单信息"
   ]
  }
 ],
 "metadata": {
  "kernelspec": {
   "display_name": "vision_study",
   "language": "python",
   "name": "python3"
  },
  "language_info": {
   "codemirror_mode": {
    "name": "ipython",
    "version": 3
   },
   "file_extension": ".py",
   "mimetype": "text/x-python",
   "name": "python",
   "nbconvert_exporter": "python",
   "pygments_lexer": "ipython3",
   "version": "3.10.16"
  }
 },
 "nbformat": 4,
 "nbformat_minor": 5
}
